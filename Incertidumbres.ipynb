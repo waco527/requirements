{
 "cells": [
  {
   "cell_type": "code",
   "execution_count": 7,
   "metadata": {},
   "outputs": [],
   "source": [
    "from uncertainties import ufloat\n",
    "from uncertainties.umath import *  # sin(), etc.\n",
    "\n"
   ]
  },
  {
   "cell_type": "code",
   "execution_count": 8,
   "metadata": {},
   "outputs": [],
   "source": [
    "\n",
    "def inc_v(valor, incertidumbre) :\n",
    "    tmp = []\n",
    "    tmp2 = []\n",
    "\n",
    "    valor = tmp.append(valor)\n",
    "    incertidumbre = tmp2.append(incertidumbre)\n",
    "    \n",
    "    #for i in valor :\n",
    "    #    tmp = ufloat(valor[i], incertidumbre[i])\n",
    "    \n",
    "    return tmp"
   ]
  },
  {
   "cell_type": "code",
   "execution_count": 9,
   "metadata": {},
   "outputs": [
    {
     "name": "stdout",
     "output_type": "stream",
     "text": [
      "[0.36, 0.09, 0.06] 0.510+/-0.017 porcentaje de error = 3.3961780540566218 \n",
      " 0.003020+/-0.000014 0.46828263654748226 \n",
      " 5.92+/-0.20 3.428310663074116\n"
     ]
    }
   ],
   "source": [
    "#measures in ml\n",
    "v1 = 0.36\n",
    "v2 = 0.09\n",
    "v3 = 0.06\n",
    "\n",
    "dev_v = 0.01\n",
    "\n",
    "total = inc_v(v1, dev_v) + inc_v(v2, dev_v) + inc_v(v3, dev_v)\n",
    "    # masa en g\n",
    "m1 = 17.22233\n",
    "m2 = 17.21931\n",
    "mt = m1 - m2\n",
    "\n",
    "v1 = ufloat(v1, 0.01)\n",
    "v2 = ufloat(v2, 0.01)\n",
    "v3 = ufloat(v3, 0.01)\n",
    "m1 = ufloat(m1, 0.00001) \n",
    "m2 = ufloat(m2, 0.00001) \n",
    "mt = m1 - m2 \n",
    "\n",
    "vt = v1 + v2 + v3\n",
    "mg_ml = 1000*mt/vt\n",
    "\n",
    "\n",
    "print (total, vt, 'porcentaje de error =', 100*vt.s/vt.n, '\\n', mt, 100*mt.s/mt.n, '\\n', mg_ml, 100*mg_ml.s/mg_ml.n )"
   ]
  },
  {
   "cell_type": "code",
   "execution_count": null,
   "metadata": {},
   "outputs": [],
   "source": []
  }
 ],
 "metadata": {
  "kernelspec": {
   "display_name": "Python 3",
   "language": "python",
   "name": "python3"
  },
  "language_info": {
   "codemirror_mode": {
    "name": "ipython",
    "version": 3
   },
   "file_extension": ".py",
   "mimetype": "text/x-python",
   "name": "python",
   "nbconvert_exporter": "python",
   "pygments_lexer": "ipython3",
   "version": "3.7.3"
  }
 },
 "nbformat": 4,
 "nbformat_minor": 2
}
